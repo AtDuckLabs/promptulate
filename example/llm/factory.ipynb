{
 "cells": [
  {
   "cell_type": "markdown",
   "metadata": {
    "collapsed": true,
    "pycharm": {
     "name": "#%% md\n"
    }
   },
   "source": [
    "## LLM-Factory\n",
    "\n",
    "This notebook show how to use LLMFactory."
   ]
  },
  {
   "cell_type": "code",
   "execution_count": 2,
   "metadata": {
    "collapsed": false,
    "pycharm": {
     "name": "#%%\n"
    },
    "scrolled": true
   },
   "outputs": [
    {
     "data": {
      "text/plain": [
       "'As an AI assistant, I can assist you with a variety of tasks and provide information on a wide array of topics. Here are some of the things I can do:\\n\\n1. **Answer Questions**: Provide answers to both simple and complex questions across various domains, including science, history, technology, and general knowledge.\\n\\n2. **Explain Concepts**: Offer detailed explanations and clarifications on complex topics, breaking them down into more understandable terms.\\n\\n3. **Language Translation**: Help with translations between different languages to a certain degree of accuracy.\\n\\n4. **Writing Assistance**: Aid in writing tasks such as composing emails, drafting essays, creating resumes, and editing text for clarity and grammar.\\n\\n5. **Programming Help**: Provide coding examples, explain programming concepts, and assist with debugging code issues.\\n\\n6. **Research**: Provide summaries or overviews of research on specific topics, though I cannot conduct original research.\\n\\n7. **Educational Support**: Help with learning new subjects, understanding homework assignments, and providing explanations for academic concepts.\\n\\n8. **Conversation**: Engage in discussions on various topics, simulating a natural conversation to practice language skills or for entertainment.\\n\\n9. **Advice and Tips**: Offer advice on a range of issues, from lifestyle and productivity to basic technical troubleshooting.\\n\\n10. **Entertainment**: Tell stories, jokes, and engage in creative writing based on user prompts.\\n\\n11. **Analysis and Interpretation**: Analyze texts, news, or data to provide summaries or interpretations, though I do not have the ability to generate real-time data.\\n\\n12. **Travel Planning**: Provide information on destinations, attractions, and travel tips, though I cannot book flights or hotels.\\n\\nPlease note that while I strive to provide accurate and helpful information, my responses should be verified for critical applications, and I should not be used as a substitute for professional advice in medical, legal, or other specialized fields.'"
      ]
     },
     "execution_count": 2,
     "metadata": {},
     "output_type": "execute_result"
    }
   ],
   "source": [
    "import promptulate as pne\n",
    "\n",
    "model_config = {\"temperature\":\"0.1\"}\n",
    "llm = pne.LLMFactory.build(\"zhipu\",model_name=\"glm-4\",model_config=model_config)\n",
    "llm(\"what can you do\")"
   ]
  }
 ],
 "metadata": {
  "kernelspec": {
   "display_name": "Python 3 (ipykernel)",
   "language": "python",
   "name": "python3"
  },
  "language_info": {
   "codemirror_mode": {
    "name": "ipython",
    "version": 3
   },
   "file_extension": ".py",
   "mimetype": "text/x-python",
   "name": "python",
   "nbconvert_exporter": "python",
   "pygments_lexer": "ipython3",
   "version": "3.9.2"
  }
 },
 "nbformat": 4,
 "nbformat_minor": 4
}
