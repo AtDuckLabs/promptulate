{
 "cells": [
  {
   "cell_type": "code",
   "execution_count": 21,
   "id": "initial_id",
   "metadata": {
    "collapsed": true,
    "ExecuteTime": {
     "end_time": "2024-04-06T16:06:53.504288600Z",
     "start_time": "2024-04-06T16:06:53.490943900Z"
    }
   },
   "outputs": [],
   "source": [
    "from promptulate.llms import ChatOpenAI\n",
    "from promptulate.tools.wikipedia.tools import wikipedia_search\n",
    "from promptulate.tools.math.tools import calculator\n",
    "from promptulate.schema import MessageSet, SystemMessage, UserMessage, AssistantMessage\n",
    "import promptulate as pne\n",
    "\n",
    "llm = ChatOpenAI()"
   ]
  },
  {
   "cell_type": "code",
   "execution_count": 22,
   "outputs": [],
   "source": [
    "WORD_PROBLEM_TEMPLATE = \"\"\"You are a reasoning agent tasked with solving t he user's logic-based questions. \n",
    "                                Logically arrive at the solution, and be factual. \n",
    "                                In your answers, clearly detail the steps involved and give the final answer. \n",
    "                                Provide the response in bullet points. Question  {question} Answer\"\"\"\n",
    "user_question = input(\"Enter your question: \")\n",
    "formatted_template = WORD_PROBLEM_TEMPLATE.format(question=user_question)\n",
    "\n",
    "# prompt for reasoning based tool\n",
    "# math_assistant_prompt = StringTemplate(WORD_PROBLEM_TEMPLATE, template_format=\"jinja2\")\n",
    "messages = MessageSet(\n",
    "    messages=[\n",
    "        SystemMessage(content=formatted_template),\n",
    "        UserMessage(content=user_question)\n",
    "    ]\n",
    ")\n",
    "\n",
    "# reasoning based tool\n",
    "def word_problem_tool():\n",
    "    \"\"\"\n",
    "        description:\n",
    "        Useful for when you need to answer logic-based/reasoning questions.\n",
    "    \"\"\"\n",
    "    response: AssistantMessage = llm.predict(messages)\n",
    "    return response"
   ],
   "metadata": {
    "collapsed": false,
    "ExecuteTime": {
     "end_time": "2024-04-06T16:07:09.435454100Z",
     "start_time": "2024-04-06T16:06:53.506475Z"
    }
   },
   "id": "60bd6d2f7725157e"
  },
  {
   "cell_type": "code",
   "execution_count": 23,
   "outputs": [],
   "source": [
    "# calculator tool for arithmetics\n",
    "def math_tool(expression):\n",
    "    \"\"\"\n",
    "        description:\n",
    "            Useful for when you need to answer numeric questions.\n",
    "            This tool is only for math questions and nothing else.\n",
    "            Only input math expressions, without text.\n",
    "    \"\"\"\n",
    "    return calculator(expression)"
   ],
   "metadata": {
    "collapsed": false,
    "ExecuteTime": {
     "end_time": "2024-04-06T16:07:09.466380300Z",
     "start_time": "2024-04-06T16:07:09.435454100Z"
    }
   },
   "id": "19fee432a2ae3e7e"
  },
  {
   "cell_type": "code",
   "execution_count": 24,
   "outputs": [],
   "source": [
    "# Wikipedia Tool\n",
    "def wikipedia_tool(keyword: str) -> str:\n",
    "    \"\"\"search by keyword in web.\n",
    "        description:\n",
    "            A useful tool for searching the Internet to find information on world events, issues, dates,years, etc.\n",
    "            Worth using for general topics. Use precise questions.\n",
    "\n",
    "        Args:\n",
    "            keyword: keyword to search\n",
    "\n",
    "        Returns:\n",
    "            str: search result\n",
    "        \"\"\"\n",
    "    return wikipedia_search(keyword)"
   ],
   "metadata": {
    "collapsed": false,
    "ExecuteTime": {
     "end_time": "2024-04-06T16:07:09.470750700Z",
     "start_time": "2024-04-06T16:07:09.450700400Z"
    }
   },
   "id": "337f22974ce61b41"
  },
  {
   "cell_type": "code",
   "execution_count": 25,
   "outputs": [
    {
     "name": "stdout",
     "output_type": "stream",
     "text": [
      "\u001B[31;1m\u001B[1;3m[Agent] Tool Agent start...\u001B[0m\n",
      "\u001B[36;1m\u001B[1;3m[User instruction] What is the cube root of 625?\u001B[0m\n",
      "\u001B[33;1m\u001B[1;3m[Thought] I should use the math tool to calculate the cube root of 625.\u001B[0m\n",
      "\u001B[33;1m\u001B[1;3m[Action] math_tool args: {'expression': '625^(1/3)'}\u001B[0m\n",
      "\u001B[33;1m\u001B[1;3m[Observation] 8.549879733383484\u001B[0m\n",
      "\u001B[32;1m\u001B[1;3m[Agent Result] The cube root of 625 is approximately 8.5499.\u001B[0m\n",
      "\u001B[38;5;200m\u001B[1;3m[Agent] Agent End.\u001B[0m\n",
      "The cube root of 625 is approximately 8.5499.\n"
     ]
    }
   ],
   "source": [
    "# agent\n",
    "agent = pne.ToolAgent(tools=[wikipedia_tool, math_tool, word_problem_tool],\n",
    "                      llm=llm)\n",
    "\n",
    "resp: str = agent.run(user_question)\n",
    "print(resp)"
   ],
   "metadata": {
    "collapsed": false,
    "ExecuteTime": {
     "end_time": "2024-04-06T16:07:19.920620500Z",
     "start_time": "2024-04-06T16:07:09.470750700Z"
    }
   },
   "id": "e609a75df5e91bb"
  }
 ],
 "metadata": {
  "kernelspec": {
   "display_name": "Python 3",
   "language": "python",
   "name": "python3"
  },
  "language_info": {
   "codemirror_mode": {
    "name": "ipython",
    "version": 2
   },
   "file_extension": ".py",
   "mimetype": "text/x-python",
   "name": "python",
   "nbconvert_exporter": "python",
   "pygments_lexer": "ipython2",
   "version": "2.7.6"
  }
 },
 "nbformat": 4,
 "nbformat_minor": 5
}
