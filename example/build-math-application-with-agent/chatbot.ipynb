{
 "cells": [
  {
   "cell_type": "code",
   "execution_count": 61,
   "id": "initial_id",
   "metadata": {
    "collapsed": true,
    "ExecuteTime": {
     "end_time": "2024-04-15T18:32:29.047581600Z",
     "start_time": "2024-04-15T18:32:29.022590Z"
    }
   },
   "outputs": [],
   "source": [
    "from promptulate.llms import ChatOpenAI\n",
    "from promptulate.tools.wikipedia.tools import wikipedia_search\n",
    "from promptulate.tools.math.tools import calculator\n",
    "from promptulate.schema import MessageSet, SystemMessage, UserMessage, AssistantMessage\n",
    "import promptulate as pne\n",
    "\n",
    "llm = ChatOpenAI()"
   ]
  },
  {
   "cell_type": "code",
   "execution_count": 62,
   "outputs": [],
   "source": [
    "WORD_PROBLEM_TEMPLATE = \"\"\"You are a reasoning agent tasked with solving t he user's logic-based questions. \n",
    "                            Logically arrive at the solution, and be factual. \n",
    "                            In your answers, clearly detail the steps involved and give the final answer. \n",
    "                            Provide the response in bullet points. Question  {question} Answer\"\"\"\n",
    "user_question = input(\"Enter your question: \")\n",
    "formatted_template = WORD_PROBLEM_TEMPLATE.format(question=user_question)\n",
    "\n",
    "# prompt for reasoning based tool\n",
    "messages = MessageSet(\n",
    "    messages=[\n",
    "        SystemMessage(content=formatted_template),\n",
    "        UserMessage(content=user_question)\n",
    "    ]\n",
    ")\n",
    "\n",
    "# reasoning based tool\n",
    "def word_problem_tool():\n",
    "    \"\"\"\n",
    "        description:\n",
    "        Useful for when you need to answer logic-based/reasoning questions.\n",
    "    \"\"\"\n",
    "    response: AssistantMessage = llm.predict(messages)\n",
    "    return response"
   ],
   "metadata": {
    "collapsed": false,
    "ExecuteTime": {
     "end_time": "2024-04-15T18:32:31.449934Z",
     "start_time": "2024-04-15T18:32:29.042588600Z"
    }
   },
   "id": "60bd6d2f7725157e"
  },
  {
   "cell_type": "code",
   "execution_count": 63,
   "outputs": [],
   "source": [
    "# calculator tool for arithmetics\n",
    "def math_tool(expression):\n",
    "    \"\"\"\n",
    "        description:\n",
    "            Useful for when you need to answer numeric questions.\n",
    "            Your input is a nature language of math expression. Attention: Expressions can not exist variables!\n",
    "            eg: (current age)^0.43 is wrong, you should use 18^0.43 instead.\n",
    "    \"\"\"\n",
    "    return calculator(expression)"
   ],
   "metadata": {
    "collapsed": false,
    "ExecuteTime": {
     "end_time": "2024-04-15T18:32:31.464459100Z",
     "start_time": "2024-04-15T18:32:31.443427800Z"
    }
   },
   "id": "19fee432a2ae3e7e"
  },
  {
   "cell_type": "code",
   "execution_count": 64,
   "outputs": [],
   "source": [
    "# Wikipedia Tool\n",
    "def wikipedia_tool(keyword: str) -> str:\n",
    "    \"\"\"search by keyword in web.\n",
    "        description:\n",
    "            A useful tool for searching the Internet to find information on world events, issues, dates,years, etc.\n",
    "            Worth using for general topics. Use precise questions.\n",
    "\n",
    "        Args:\n",
    "            keyword: keyword to search\n",
    "\n",
    "        Returns:\n",
    "            str: search result\n",
    "        \"\"\"\n",
    "    return wikipedia_search(keyword)"
   ],
   "metadata": {
    "collapsed": false,
    "ExecuteTime": {
     "end_time": "2024-04-15T18:32:31.480740200Z",
     "start_time": "2024-04-15T18:32:31.458819100Z"
    }
   },
   "id": "337f22974ce61b41"
  },
  {
   "cell_type": "code",
   "execution_count": 65,
   "outputs": [
    {
     "name": "stdout",
     "output_type": "stream",
     "text": [
      "\u001B[31;1m\u001B[1;3m[Agent] Tool Agent start...\u001B[0m\n",
      "\u001B[36;1m\u001B[1;3m[User instruction] I have 3 apples and 4 oranges.I give half of my oranges away and buy two dozen new ones,along with three packs of strawberries.Each pack of strawberry has 30 strawberries.How many total pieces of fruit do I have at the end?\u001B[0m\n",
      "\u001B[33;1m\u001B[1;3m[Thought] To solve this problem, I need to carefully track the changes in the number of fruits as described in the question.\u001B[0m\n",
      "\u001B[33;1m\u001B[1;3m[Action] word_problem_tool args: {}\u001B[0m\n",
      "\u001B[33;1m\u001B[1;3m[Observation] content='To calculate the total pieces of fruit at the end, we need to follow these steps:\\n\\n1. Start with the initial fruit:\\n   - Apples: 3\\n   - Oranges: 4\\n\\n2. Half of the oranges are given away:\\n   - Remaining oranges: 4 / 2 = 2 oranges\\n\\n3. Add two dozen new oranges:\\n   - Two dozen = 2 x 12 = 24 oranges\\n   - Total oranges now = 2 (remaining) + 24 (new) = 26 oranges\\n\\n4. Add three packs of strawberries:\\n   - Each pack has 30 strawberries\\n   - Total strawberries = 3 packs x 30 strawberries/pack = 90 strawberries\\n\\n5. Calculate the total pieces of fruit at the end:\\n   - Total fruit = Apples + Oranges + Strawberries\\n   - Total fruit = 3 apples + 26 oranges + 90 strawberries\\n   - Total fruit = 3 + 26 + 90\\n   - Total fruit = 119 pieces of fruit\\n\\nTherefore, you will have a total of 119 pieces of fruit at the end.' additional_kwargs={'id': 'chatcmpl-9ELQ1jx6HSpc4joRwxLdYJtqlajwh', 'object': 'chat.completion', 'created': 1713205953, 'model': 'gpt-3.5-turbo-0125', 'choices': [{'index': 0, 'message': {'role': 'assistant', 'content': 'To calculate the total pieces of fruit at the end, we need to follow these steps:\\n\\n1. Start with the initial fruit:\\n   - Apples: 3\\n   - Oranges: 4\\n\\n2. Half of the oranges are given away:\\n   - Remaining oranges: 4 / 2 = 2 oranges\\n\\n3. Add two dozen new oranges:\\n   - Two dozen = 2 x 12 = 24 oranges\\n   - Total oranges now = 2 (remaining) + 24 (new) = 26 oranges\\n\\n4. Add three packs of strawberries:\\n   - Each pack has 30 strawberries\\n   - Total strawberries = 3 packs x 30 strawberries/pack = 90 strawberries\\n\\n5. Calculate the total pieces of fruit at the end:\\n   - Total fruit = Apples + Oranges + Strawberries\\n   - Total fruit = 3 apples + 26 oranges + 90 strawberries\\n   - Total fruit = 3 + 26 + 90\\n   - Total fruit = 119 pieces of fruit\\n\\nTherefore, you will have a total of 119 pieces of fruit at the end.'}, 'logprobs': None, 'finish_reason': 'stop'}], 'usage': {'prompt_tokens': 171, 'completion_tokens': 233, 'total_tokens': 404}, 'system_fingerprint': 'fp_c2295e73ad'}\u001B[0m\n",
      "\u001B[32;1m\u001B[1;3m[Agent Result] You will have a total of 119 pieces of fruit at the end.\u001B[0m\n",
      "\u001B[38;5;200m\u001B[1;3m[Agent] Agent End.\u001B[0m\n",
      "You will have a total of 119 pieces of fruit at the end.\n"
     ]
    }
   ],
   "source": [
    "# agent\n",
    "# agent = pne.ToolAgent(tools=[wikipedia_search, calculator, word_problem_tool],\n",
    "#                       llm=llm)\n",
    "agent = pne.ToolAgent(tools=[wikipedia_tool, math_tool, word_problem_tool],\n",
    "                      llm=llm)\n",
    "\n",
    "resp: str = agent.run(user_question)\n",
    "print(resp)"
   ],
   "metadata": {
    "collapsed": false,
    "ExecuteTime": {
     "end_time": "2024-04-15T18:32:40.656512400Z",
     "start_time": "2024-04-15T18:32:31.472479200Z"
    }
   },
   "id": "e609a75df5e91bb"
  }
 ],
 "metadata": {
  "kernelspec": {
   "display_name": "Python 3",
   "language": "python",
   "name": "python3"
  },
  "language_info": {
   "codemirror_mode": {
    "name": "ipython",
    "version": 2
   },
   "file_extension": ".py",
   "mimetype": "text/x-python",
   "name": "python",
   "nbconvert_exporter": "python",
   "pygments_lexer": "ipython2",
   "version": "2.7.6"
  }
 },
 "nbformat": 4,
 "nbformat_minor": 5
}
