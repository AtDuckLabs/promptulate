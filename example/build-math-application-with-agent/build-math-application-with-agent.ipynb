{
 "cells": [
  {
   "cell_type": "markdown",
   "source": [
    "# Building a Math Application with promptulate Agents\n",
    "This demo is how to use promptulates agents to create a custom Math application utilising OpenAI's GPT3.5 Model.\n",
    "For the application frontend, there will be using Chainlit, an easy-to-use open-source Python framework. \n",
    "This generative math application, let’s call it “Math Wiz”, is designed to help users with their math or reasoning/logic questions.\n",
    "\n",
    "## Reference reading\n",
    "[Building a Math Application with LangChain Agents](https://towardsdatascience.com/building-a-math-application-with-langchain-agents-23919d09a4d3)"
   ],
   "metadata": {
    "collapsed": false
   },
   "id": "7207979682ff90d3"
  },
  {
   "cell_type": "markdown",
   "source": [
    "## Environment Setup\n",
    "We can start off by creating a new conda environment with python=3.11:`conda create -n math_assistant python=3.11`\n",
    "\n",
    "Activate the environment:`conda activate math_assistant`\n",
    "\n",
    "Next, let’s install all necessary libraries:\n",
    "`pip install -U promptulate` \n",
    "`pip install wikipedia`\n",
    "`pip install numexpr`\n",
    "\n",
    "Sign up at OpenAI and obtain your own key to start making calls to the gpt model. Once you have the key, create a .env file in your repository and store the OpenAI key:"
   ],
   "metadata": {
    "collapsed": false
   },
   "id": "c14bd58db4084624"
  },
  {
   "cell_type": "code",
   "execution_count": 15,
   "outputs": [],
   "source": [
    "OPENAI_API_KEY=\"your_openai_api_key\""
   ],
   "metadata": {
    "collapsed": false,
    "ExecuteTime": {
     "end_time": "2024-04-06T16:11:10.988121100Z",
     "start_time": "2024-04-06T16:11:10.970822200Z"
    }
   },
   "id": "bdba0ee6cdddfda1"
  },
  {
   "cell_type": "markdown",
   "source": [
    "**The application flow for Math Wiz is outlined below:**\n",
    "\n",
    "The agent in our pipeline will have a set of tools at its disposal that it can use to answer a user query. The Large Language Model (LLM) serves as the “brain” of the agent, guiding its decisions. When a user submits a question, the agent uses the LLM to select the most appropriate tool or a combination of tools to provide an answer. If the agent determines it needs multiple tools, it will also specify the order in which the tools are used.\n",
    "\n",
    "The agent for our Math Wiz app will be using the following tools:\n",
    "\n",
    "1. **Wikipedia Tool:** this tool will be responsible for fetching the latest information from Wikipedia using the Wikipedia API. While there are paid tools and APIs available that can be integrated inside LangChain, I would be using Wikipedia as the app’s online source of information.\n",
    "\n",
    "2. **Calculator Tool:** this tool would be responsible for solving a user’s math queries. This includes anything involving numerical calculations. For example, if a user asks what the square root of 4 is, this tool would be appropriate.\n",
    "\n",
    "3. **Reasoning Tool:** the final tool in our application setup would be a reasoning tool, responsible for tackling logical/reasoning-based user queries. Any mathematical word problems should also be handled with this tool.\n",
    "\n",
    "Now that we have a rough application design, we can began thinking about building this application."
   ],
   "metadata": {
    "collapsed": false
   },
   "id": "57d30c50ed555e46"
  },
  {
   "cell_type": "markdown",
   "source": [
    "## Understanding promptulate Agents\n",
    "\n",
    "Promptulate agents are designed to enhance interaction with language models by providing an interface for more complex and interactive tasks. We can think of an agent as an intermediary between users and a large language model. Agents seek to break down a seemingly complex user query, that our LLM might not be able to tackle on its own, into easier, actionable steps.\n",
    "\n",
    "In our application flow, we defined a few different tools that we would like to use for our math application. Based on the user input, the agent should decide which of these tools to use. If a tool is not required, it should not be used. Promptulate agents can simplify this for us. These agents use a language model to choose a sequence of actions to take. Essentially, the LLM acts as the “brain” of the agent, guiding it on which tool to use for a particular query, and in which order. This is different from Proptulate chains where the sequence of actions are hardcoded in code. Promptulate offers a wide set of tools that can be integrated with an agent. These tools include, and are not limited to, online search tools, API-based tools, chain-based tools etc. For more information on Promptulate agents and their types, see [this](https://undertone0809.github.io/promptulate/#/modules/agent?id=agent)."
   ],
   "metadata": {
    "collapsed": false
   },
   "id": "eac444b133599049"
  },
  {
   "cell_type": "markdown",
   "source": [
    "## Step-by-Step Implementation "
   ],
   "metadata": {
    "collapsed": false
   },
   "id": "580a0bd570fd6545"
  },
  {
   "cell_type": "markdown",
   "source": [
    "### Step 1\n",
    "\n",
    "Create a `chatbot.py` script and import the necessary dependencies:"
   ],
   "metadata": {
    "collapsed": false
   },
   "id": "22e6af33468bbed4"
  },
  {
   "cell_type": "code",
   "execution_count": 16,
   "outputs": [],
   "source": [
    "from promptulate.llms import ChatOpenAI\n",
    "from promptulate.tools.wikipedia.tools import wikipedia_search\n",
    "from promptulate.tools.math.tools import calculator\n",
    "from promptulate.schema import MessageSet, SystemMessage, UserMessage, AssistantMessage\n",
    "import promptulate as pne"
   ],
   "metadata": {
    "collapsed": false,
    "ExecuteTime": {
     "end_time": "2024-04-06T16:11:11.007058Z",
     "start_time": "2024-04-06T16:11:10.988121100Z"
    }
   },
   "id": "bf24915502504abb"
  },
  {
   "cell_type": "markdown",
   "source": [
    "### Step 2\n",
    "Next, we will define our OpenAI-based Language Model.The architectural design of `promptulate` is easily compatible with different large language model extensions. In `promptulate`, llm is responsible for the most basic part of content generation, so it is the most basic component.By default, `ChatOpenAI` in `promptulate` uses the `gpt-3.5-turbo` model."
   ],
   "metadata": {
    "collapsed": false
   },
   "id": "24cf6e82bd6c908e"
  },
  {
   "cell_type": "code",
   "execution_count": 17,
   "outputs": [],
   "source": [
    "llm = ChatOpenAI()"
   ],
   "metadata": {
    "collapsed": false,
    "ExecuteTime": {
     "end_time": "2024-04-06T16:11:11.020869300Z",
     "start_time": "2024-04-06T16:11:11.007058Z"
    }
   },
   "id": "ca8d4ef8b9b9bcc3"
  },
  {
   "cell_type": "markdown",
   "source": [
    "We would be using this LLM both within our math and reasoning process and as the decision maker for our agent."
   ],
   "metadata": {
    "collapsed": false
   },
   "id": "479c360af07d9a6"
  },
  {
   "cell_type": "markdown",
   "source": [
    "### Step 3\n",
    "When constructing your own agent, you will need to provide it with a list of tools that it can use. Difine a tool， the only you need to do is to provide a function to Promptulate. Promptulate will automatically convert it to a tool that can be used by the language learning model (LLM). The final presentation result it presents to LLM is an OpenAI type JSON schema declaration.\n",
    "\n",
    "Actually, Promptulate will analysis function name, parameters type, parameters attribution, annotations and docs when you provide the function. We strongly recommend that you use the official best practices of Template for function writing. The best implementation of a function requires adding type declarations to its parameters and providing function level annotations. Ideally, declare the meaning of each parameter within the annotations.\n",
    "\n",
    "We will now create our three tools. The first one will be the online tool using the Wikipedia API wrapper:"
   ],
   "metadata": {
    "collapsed": false
   },
   "id": "a2b9b2c90ec135c6"
  },
  {
   "cell_type": "code",
   "execution_count": 18,
   "outputs": [],
   "source": [
    "# Wikipedia Tool\n",
    "def wikipedia_tool(keyword: str) -> str:\n",
    "    \"\"\"search by keyword in web.\n",
    "        description:\n",
    "            A useful tool for searching the Internet to find information on world events, issues, dates,years, etc.\n",
    "            Worth using for general topics. Use precise questions.\n",
    "\n",
    "        Args:\n",
    "            keyword: keyword to search\n",
    "\n",
    "        Returns:\n",
    "            str: search result\n",
    "        \"\"\"\n",
    "    return wikipedia_search(keyword)"
   ],
   "metadata": {
    "collapsed": false,
    "ExecuteTime": {
     "end_time": "2024-04-06T16:11:11.035031200Z",
     "start_time": "2024-04-06T16:11:11.020869300Z"
    }
   },
   "id": "2432245bfeb3ec83"
  },
  {
   "cell_type": "markdown",
   "source": [
    "Next, let’s define the tool that we will be using for calculating any numerical expressions. `Promptulate` offers the `calculator` which uses the `numexpr` Python library to calculate mathematical expressions. It is also important that we clearly define what this tool would be used for. The description can be helpful for the agent in deciding which tool to use from a set of tools for a particular user query. "
   ],
   "metadata": {
    "collapsed": false
   },
   "id": "bd71e0b1f2e2b3ba"
  },
  {
   "cell_type": "code",
   "execution_count": 19,
   "outputs": [],
   "source": [
    "# calculator tool for arithmetics\n",
    "def math_tool(expression):\n",
    "    \"\"\"\n",
    "        description:\n",
    "            Useful for when you need to answer numeric questions.\n",
    "            This tool is only for math questions and nothing else.\n",
    "            Only input math expressions, without text.\n",
    "    \"\"\"\n",
    "    return calculator(expression)"
   ],
   "metadata": {
    "collapsed": false,
    "ExecuteTime": {
     "end_time": "2024-04-06T16:11:11.052210600Z",
     "start_time": "2024-04-06T16:11:11.035031200Z"
    }
   },
   "id": "f34cd4480745694b"
  },
  {
   "cell_type": "markdown",
   "source": [
    "Finally, we will be defining the tool for logic/reasoning-based queries. We will first create a prompt to instruct the model with executing the specific task. Then we will create a simple `AssistantMessage` for this tool, passing it the LLM and the prompt."
   ],
   "metadata": {
    "collapsed": false
   },
   "id": "5ffdb61331ee9735"
  },
  {
   "cell_type": "code",
   "execution_count": 20,
   "outputs": [],
   "source": [
    "WORD_PROBLEM_TEMPLATE = \"\"\"You are a reasoning agent tasked with solving t he user's logic-based questions. \n",
    "                                Logically arrive at the solution, and be factual. \n",
    "                                In your answers, clearly detail the steps involved and give the final answer. \n",
    "                                Provide the response in bullet points. Question  {question} Answer\"\"\"\n",
    "user_question = input(\"Enter your question: \")\n",
    "formatted_template = WORD_PROBLEM_TEMPLATE.format(question=user_question)\n",
    "\n",
    "# prompt for reasoning based tool\n",
    "# math_assistant_prompt = StringTemplate(WORD_PROBLEM_TEMPLATE, template_format=\"jinja2\")\n",
    "messages = MessageSet(\n",
    "    messages=[\n",
    "        SystemMessage(content=formatted_template),\n",
    "        UserMessage(content=user_question)\n",
    "    ]\n",
    ")\n",
    "\n",
    "# reasoning based tool\n",
    "def word_problem_tool():\n",
    "    \"\"\"\n",
    "        description:\n",
    "        Useful for when you need to answer logic-based/reasoning questions.\n",
    "    \"\"\"\n",
    "    response: AssistantMessage = llm.predict(messages)\n",
    "    return response"
   ],
   "metadata": {
    "collapsed": false,
    "ExecuteTime": {
     "end_time": "2024-04-06T16:11:56.605688600Z",
     "start_time": "2024-04-06T16:11:11.054730700Z"
    }
   },
   "id": "9e135028cb2f3b9"
  },
  {
   "cell_type": "markdown",
   "source": [
    "### Step 4\n",
    "We will now initialize our agent with the tools we have created above. We will also specify the LLM to help it choose which tools to use and in what order:"
   ],
   "metadata": {
    "collapsed": false
   },
   "id": "d0dec33956572b1a"
  },
  {
   "cell_type": "code",
   "execution_count": 21,
   "outputs": [
    {
     "name": "stdout",
     "output_type": "stream",
     "text": [
      "\u001B[31;1m\u001B[1;3m[Agent] Tool Agent start...\u001B[0m\n",
      "\u001B[36;1m\u001B[1;3m[User instruction] I have 3 apples and 4 oranges. I give half of my oranges away and buy two  dozen new ones, along with three packs of strawberries. Each pack of strawberry has 30 strawberries. How  many total pieces of fruit do I have at  the end?\u001B[0m\n",
      "\u001B[33;1m\u001B[1;3m[Thought] I need to calculate the total number of fruits after the given actions.\u001B[0m\n",
      "\u001B[33;1m\u001B[1;3m[Action] math_tool args: {'expression': '3 + 4/2 + 2*12 + 3*30'}\u001B[0m\n",
      "\u001B[33;1m\u001B[1;3m[Observation] 119.0\u001B[0m\n",
      "\u001B[33;1m\u001B[1;3m[Thought] Now, I need to account for the different types of fruits (apples, oranges, strawberries) separately to accurately determine the total count of fruits.\u001B[0m\n",
      "\u001B[33;1m\u001B[1;3m[Action] math_tool args: {'expression': '(3 apples) + ((4 oranges - 2) + 24) + (3 packs * 30 strawberries)'}\u001B[0m\n",
      "\u001B[33;1m\u001B[1;3m[Observation] 119\u001B[0m\n",
      "\u001B[32;1m\u001B[1;3m[Agent Result] Sorry, I cannot answer your query, because the previous calculations did not account for the correct subtraction of oranges and addition of new ones, leading to an inaccurate total count of fruits.\u001B[0m\n",
      "\u001B[38;5;200m\u001B[1;3m[Agent] Agent End.\u001B[0m\n",
      "Sorry, I cannot answer your query, because the previous calculations did not account for the correct subtraction of oranges and addition of new ones, leading to an inaccurate total count of fruits.\n"
     ]
    }
   ],
   "source": [
    "# agent\n",
    "agent = pne.ToolAgent(tools=[wikipedia_tool, math_tool, word_problem_tool],\n",
    "                      llm=llm)\n",
    "\n",
    "resp: str = agent.run(user_question)\n",
    "print(resp)"
   ],
   "metadata": {
    "collapsed": false,
    "ExecuteTime": {
     "end_time": "2024-04-06T16:12:05.558280900Z",
     "start_time": "2024-04-06T16:11:56.579306400Z"
    }
   },
   "id": "5b03977f863172b"
  }
 ],
 "metadata": {
  "kernelspec": {
   "display_name": "Python 3",
   "language": "python",
   "name": "python3"
  },
  "language_info": {
   "codemirror_mode": {
    "name": "ipython",
    "version": 2
   },
   "file_extension": ".py",
   "mimetype": "text/x-python",
   "name": "python",
   "nbconvert_exporter": "python",
   "pygments_lexer": "ipython2",
   "version": "2.7.6"
  }
 },
 "nbformat": 4,
 "nbformat_minor": 5
}
