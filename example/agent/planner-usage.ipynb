{
 "cells": [
  {
   "metadata": {},
   "cell_type": "markdown",
   "source": [
    "# Using the planner\n",
    "\n",
    "In this notebook, we will demonstrate how to use the planner to generate plans by providing a prompt to the model.\n",
    "\n",
    "Firstly, we will load the model and the planner. The system prompt show what environment the model is in. If you have relevant tools to use, you need to tell the Planner so that it can generate the appropriate plan."
   ],
   "id": "c7816123f07380d"
  },
  {
   "cell_type": "code",
   "id": "initial_id",
   "metadata": {
    "collapsed": true,
    "ExecuteTime": {
     "end_time": "2024-05-12T20:55:27.148698Z",
     "start_time": "2024-05-12T20:55:24.214596Z"
    }
   },
   "source": [
    "import promptulate as pne\n",
    "\n",
    "model = pne.LLMFactory.build(\"gpt-4-turbo\")\n",
    "planner = pne.Planner(model, system_prompt=\"You are a planner\")"
   ],
   "execution_count": 1,
   "outputs": []
  },
  {
   "metadata": {
    "ExecuteTime": {
     "end_time": "2024-05-12T20:55:49.892144Z",
     "start_time": "2024-05-12T20:55:38.361456Z"
    }
   },
   "cell_type": "code",
   "source": "plans = planner.run(\"Plan a trip to Paris\")",
   "id": "3b288fee5567be4d",
   "execution_count": 3,
   "outputs": []
  },
  {
   "metadata": {
    "ExecuteTime": {
     "end_time": "2024-05-12T20:55:49.907847Z",
     "start_time": "2024-05-12T20:55:49.893212Z"
    }
   },
   "cell_type": "code",
   "source": "print(plans)",
   "id": "7436643c60a221bf",
   "execution_count": 4,
   "outputs": []
  }
 ],
 "metadata": {
  "kernelspec": {
   "display_name": "Python 3",
   "language": "python",
   "name": "python3"
  },
  "language_info": {
   "codemirror_mode": {
    "name": "ipython",
    "version": 2
   },
   "file_extension": ".py",
   "mimetype": "text/x-python",
   "name": "python",
   "nbconvert_exporter": "python",
   "pygments_lexer": "ipython2",
   "version": "2.7.6"
  }
 },
 "nbformat": 4,
 "nbformat_minor": 5
}
