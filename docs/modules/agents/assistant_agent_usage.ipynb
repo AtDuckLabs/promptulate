{
 "cells": [
  {
   "cell_type": "markdown",
   "source": [
    "# Assistant Agent\n",
    "Assistant Agent is a robust and versatile agent, capable of utilizing various tools, memory, data sources, and more. It functions similarly to the OpenAI Assistant API but offers enhanced power and customization options.\n",
    "\n",
    "The following example show how to use it."
   ],
   "metadata": {
    "collapsed": false
   },
   "id": "3a848b95bc9db337"
  },
  {
   "cell_type": "code",
   "execution_count": 2,
   "outputs": [
    {
     "name": "stdout",
     "output_type": "stream",
     "text": [
      "Hello! How can I assist you today?\n"
     ]
    }
   ],
   "source": [
    "import promptulate as pne\n",
    "\n",
    "llm = pne.ChatOpenAI(model=\"gpt-4-1106-preview\")\n",
    "res = llm(\"hello\")\n",
    "print(res)"
   ],
   "metadata": {
    "collapsed": true,
    "ExecuteTime": {
     "end_time": "2023-12-13T05:04:32.727844200Z",
     "start_time": "2023-12-13T05:04:30.871969Z"
    }
   },
   "id": "initial_id"
  }
 ],
 "metadata": {
  "kernelspec": {
   "display_name": "Python 3",
   "language": "python",
   "name": "python3"
  },
  "language_info": {
   "codemirror_mode": {
    "name": "ipython",
    "version": 2
   },
   "file_extension": ".py",
   "mimetype": "text/x-python",
   "name": "python",
   "nbconvert_exporter": "python",
   "pygments_lexer": "ipython2",
   "version": "2.7.6"
  }
 },
 "nbformat": 4,
 "nbformat_minor": 5
}
